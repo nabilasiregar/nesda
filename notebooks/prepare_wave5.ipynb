{
 "cells": [
  {
   "cell_type": "code",
   "execution_count": null,
   "metadata": {},
   "outputs": [],
   "source": [
    "import sys\n",
    "sys.path.append('..')\n",
    "from scripts.data_analysis import DataAnalysis\n",
    "import numpy as np\n",
    "import pandas as pd\n",
    "import matplotlib.pyplot as plt"
   ]
  },
  {
   "cell_type": "code",
   "execution_count": null,
   "metadata": {},
   "outputs": [],
   "source": [
    "original_df = pd.read_csv('../data/data_wave5.csv')"
   ]
  },
  {
   "cell_type": "code",
   "execution_count": null,
   "metadata": {},
   "outputs": [],
   "source": [
    "columns_to_extract = [\n",
    "    'pident', 'eApoB', 'eHDLC', 'eTotFA', 'eSerumTG', 'eGp', 'eIle', 'sex', 'eage',\n",
    "    'eauditsc', 'eincom01', 'eipmeto2', 'ecidep09', 'eHSCRP', 'eIL6',\n",
    "    'eIRSsum9', 'ems_waist', 'ems_hpt', 'ems_trig2', 'ems_hdl2', 'ems_gluc2',\n",
    "    'emet_syn2', 'etri_med', 'ehdl_med', 'esbp_med', 'edbp_med', 'egluc_med',\n",
    "    'ebaiscal', 'eids'\n",
    "]\n",
    "\n",
    "extracted_df = original_df[columns_to_extract]\n",
    "\n",
    "extracted_csv_file = '../data/wave5_data_to_discretize.csv'\n",
    "extracted_df.to_csv(extracted_csv_file, index=False)"
   ]
  },
  {
   "cell_type": "code",
   "execution_count": null,
   "metadata": {},
   "outputs": [],
   "source": [
    "def classify_data(df):\n",
    "    \"\"\"\n",
    "    Classify each column in a pandas DataFrame as continuous, discrete, binary, or categorical.\n",
    "    \n",
    "    Parameters:\n",
    "    df (pd.DataFrame): The DataFrame to classify.\n",
    "\n",
    "    Returns:\n",
    "    dict: A dictionary with column names as keys and their classifications as values.\n",
    "    \"\"\"\n",
    "    def classify_series(series):\n",
    "        \"\"\"\n",
    "        Classify a pandas Series as continuous, discrete, binary, or categorical.\n",
    "        \n",
    "        Parameters:\n",
    "        series (pd.Series): The Series from a column to classify.\n",
    "\n",
    "        Returns:\n",
    "        str: The classification of the series ('continuous', 'discrete', 'binary', 'categorical').\n",
    "        \"\"\"\n",
    "        if pd.api.types.is_numeric_dtype(series):\n",
    "            unique_count = series.nunique()\n",
    "            total_count = len(series)\n",
    "            \n",
    "            if unique_count == 2:\n",
    "                return 'binary'\n",
    "            elif unique_count < 10:\n",
    "                return 'discrete'\n",
    "            else:\n",
    "                return 'continuous'\n",
    "        else:\n",
    "            return 'categorical'\n",
    "\n",
    "    column_classifications = {col: classify_series(df[col]) for col in df.columns}\n",
    "    return column_classifications"
   ]
  },
  {
   "cell_type": "code",
   "execution_count": null,
   "metadata": {},
   "outputs": [],
   "source": [
    "data = pd.read_csv('../data/wave5_data_to_discretize.csv')"
   ]
  },
  {
   "cell_type": "code",
   "execution_count": null,
   "metadata": {},
   "outputs": [],
   "source": [
    "# replace -1 in columns with NaN\n",
    "columns_with_minus_one = [\n",
    "    'eHSCRP', 'eIL6', 'ems_waist', 'ems_hpt', 'ems_trig2', 'ems_hdl2', 'ems_gluc2',\n",
    "    'emet_syn2'\n",
    "]\n",
    "for col in columns_with_minus_one:  \n",
    "  data[col] = data[col].replace(-1, np.nan)\n",
    "\n",
    "data['eIRSsum9'] = data[col].replace(-3, np.nan)\n",
    "data['eIRSsum9'] = data[col].replace(-2, np.nan)"
   ]
  },
  {
   "cell_type": "code",
   "execution_count": null,
   "metadata": {},
   "outputs": [],
   "source": [
    "column_types = classify_data(data)\n",
    "column_types"
   ]
  },
  {
   "cell_type": "code",
   "execution_count": null,
   "metadata": {},
   "outputs": [],
   "source": [
    "DataAnalysis.plot_missing_values(data)"
   ]
  },
  {
   "cell_type": "code",
   "execution_count": null,
   "metadata": {},
   "outputs": [],
   "source": [
    "from scipy.stats import chi2_contingency\n",
    "\n",
    "def perform_little_mcar_test(df):\n",
    "    results = []\n",
    "\n",
    "    for col_with_missing_data in df.columns[df.isnull().any()]:\n",
    "        # Create a mask indicating where data is missing\n",
    "        missing_data = df[col_with_missing_data ].isnull().astype(int)\n",
    "\n",
    "        # Create contingency table for Chi-Squared test\n",
    "        contingency_table = pd.crosstab(missing_data, df.drop(columns=[col_with_missing_data]).isnull().any(axis=1).astype(int))\n",
    "\n",
    "        # Perform Chi-Squared test\n",
    "        chi2_stat, p_val, dof, _ = chi2_contingency(contingency_table, correction=False)\n",
    "\n",
    "        # Append results\n",
    "        results.append({'Column': col_with_missing_data, 'Chi-Squared': chi2_stat, 'df': dof, 'p-value': p_val})\n",
    "\n",
    "    return pd.DataFrame(results)\n",
    "\n",
    "perform_little_mcar_test(data)"
   ]
  },
  {
   "cell_type": "markdown",
   "metadata": {},
   "source": [
    "Data is not missing completely at random so we cannot discard it"
   ]
  },
  {
   "cell_type": "code",
   "execution_count": null,
   "metadata": {},
   "outputs": [],
   "source": [
    "columns_to_process = [col for col in columns_to_extract if col != 'pident']"
   ]
  },
  {
   "cell_type": "code",
   "execution_count": null,
   "metadata": {},
   "outputs": [],
   "source": [
    "DataAnalysis.plot_correlation_matrix(data[columns_to_process], columns_to_process, 'Variables to Construct Bayesian Network')"
   ]
  },
  {
   "cell_type": "markdown",
   "metadata": {},
   "source": [
    "Now, we are going to determine the imputation strategy for each column with missing data based on correlation matrix"
   ]
  },
  {
   "cell_type": "code",
   "execution_count": null,
   "metadata": {},
   "outputs": [],
   "source": [
    "corr_matrix = data[columns_to_process].corr().abs()"
   ]
  },
  {
   "cell_type": "code",
   "execution_count": null,
   "metadata": {},
   "outputs": [],
   "source": [
    "from sklearn.impute import KNNImputer\n",
    "from sklearn.experimental import enable_iterative_imputer\n",
    "from sklearn.impute import IterativeImputer\n",
    "\n",
    "def impute_missing_values(df, corr_matrix, column_types):\n",
    "    imputed_df = df.copy()\n",
    "\n",
    "    if 'emet_syn2' in df.columns:\n",
    "        correlated_vars = ['ems_trig2', 'ems_hdl2', 'ems_hpt', 'ems_gluc2', 'etri_med', 'ehdl_med', 'esbp_med', 'edbp_med', 'egluc_med']\n",
    "        imputation_vars = ['emet_syn2'] + correlated_vars\n",
    "        data_for_imputation = df[imputation_vars]\n",
    "        \n",
    "        iter_imputer = IterativeImputer(max_iter=100, random_state=42)\n",
    "        imputed_data = iter_imputer.fit_transform(data_for_imputation)\n",
    "        # convert to binary\n",
    "        imputed_df['emet_syn2'] = np.round(imputed_data[:, 0]).astype(int)\n",
    "\n",
    "    for col in df.columns[df.isnull().any()]:\n",
    "        if col == 'emet_syn2':\n",
    "            continue\n",
    "\n",
    "        col_corr = corr_matrix[col].drop(col)\n",
    "        max_corr = col_corr.max()\n",
    "\n",
    "        # use MICE for highly correlated columns\n",
    "        if max_corr > 0.6:\n",
    "            mice_imputer = IterativeImputer(random_state=42)\n",
    "            imputed_df[col] = mice_imputer.fit_transform(df[[col] + col_corr.index.tolist()])[:, 0]\n",
    "        # use kNN for everything else\n",
    "        else:\n",
    "            knn_imputer = KNNImputer(n_neighbors=10)\n",
    "            imputed_df[col] = knn_imputer.fit_transform(df[[col] + col_corr.index.tolist()])[:, 0]\n",
    "        \n",
    "        if column_types[col] == 'binary':\n",
    "            imputed_df[col] = np.round(imputed_df[col]).astype(int)\n",
    "\n",
    "    return imputed_df"
   ]
  },
  {
   "cell_type": "code",
   "execution_count": null,
   "metadata": {},
   "outputs": [],
   "source": [
    "imputed_df = impute_missing_values(data[columns_to_process], corr_matrix, column_types)"
   ]
  },
  {
   "cell_type": "code",
   "execution_count": null,
   "metadata": {},
   "outputs": [],
   "source": [
    "DataAnalysis.plot_missing_values(imputed_df)"
   ]
  },
  {
   "cell_type": "code",
   "execution_count": null,
   "metadata": {},
   "outputs": [],
   "source": [
    "classify_data(imputed_df)"
   ]
  },
  {
   "cell_type": "code",
   "execution_count": null,
   "metadata": {},
   "outputs": [],
   "source": [
    "imputed_df.reset_index(drop=True, inplace=True)\n",
    "data.reset_index(drop=True, inplace=True)\n",
    "imputed_df['pident'] = data['pident']\n",
    "imputed_df.set_index('pident', inplace=True)"
   ]
  },
  {
   "cell_type": "code",
   "execution_count": null,
   "metadata": {},
   "outputs": [],
   "source": [
    "imputed_df.to_csv('../data/network/imputed_data_wave5.csv')"
   ]
  },
  {
   "cell_type": "markdown",
   "metadata": {},
   "source": [
    "## Transform continuous variables to discrete"
   ]
  },
  {
   "cell_type": "code",
   "execution_count": null,
   "metadata": {},
   "outputs": [],
   "source": [
    "preprocessed_df = pd.read_csv('../data/network/imputed_data_wave5.csv')"
   ]
  },
  {
   "cell_type": "code",
   "execution_count": null,
   "metadata": {},
   "outputs": [],
   "source": [
    "from sklearn.cluster import KMeans\n",
    "import numpy as np\n",
    "import matplotlib.pyplot as plt\n",
    "\n",
    "def apply_kmeans(df, column_name, n_clusters=3, random_state=0):\n",
    "    data = df[column_name].values.reshape(-1, 1)\n",
    "    kmeans = KMeans(n_clusters=n_clusters, random_state=random_state).fit(data)\n",
    "    \n",
    "    centroids = kmeans.cluster_centers_\n",
    "    sorted_idx = np.argsort(centroids.ravel())\n",
    "\n",
    "    # 1 for \"Low\", 2 for \"Moderate\", 3 for \"High\"\n",
    "    ordinal_labels = {old_label: new_label for old_label, new_label in zip(sorted_idx, range(1, n_clusters + 1))}\n",
    "    df[column_name] = [ordinal_labels[x] for x in kmeans.labels_]\n",
    "    \n",
    "    colors = ['#3B28CC', '#3F8EFC', '#ADD7F6']\n",
    "    plt.figure(figsize=(8, 6))\n",
    "    for label in range(1, n_clusters + 1):\n",
    "        subset = df[df[f'{column_name}'] == label]\n",
    "        plt.hist(subset[f'{column_name}'], bins=np.arange(1, n_clusters + 2) - 0.5, color=colors[label-1], label=f'Cluster {label}', alpha=0.75, edgecolor='black')\n",
    "\n",
    "    plt.title(f'Clusters of {column_name}')\n",
    "    plt.xlabel('Label')\n",
    "    plt.ylabel('Frequency')\n",
    "    plt.xticks(range(1, n_clusters + 1))\n",
    "    plt.legend()\n",
    "    plt.show()\n",
    "    \n",
    "    return df"
   ]
  },
  {
   "cell_type": "code",
   "execution_count": null,
   "metadata": {},
   "outputs": [],
   "source": [
    "#eApoB\n",
    "bins = [-float('inf'), 1.3, float('inf')]\n",
    "# Low: 1, High: 2\n",
    "labels = [1, 2]\n",
    "preprocessed_df['eApoB'] = pd.cut(preprocessed_df['eApoB'], bins=bins, labels=labels, right=False)\n",
    "preprocessed_df['eApoB'].unique()"
   ]
  },
  {
   "cell_type": "code",
   "execution_count": null,
   "metadata": {},
   "outputs": [],
   "source": [
    "#eTotFA\n",
    "preprocessed_df = apply_kmeans(preprocessed_df, 'eTotFA', n_clusters=3, random_state=0)"
   ]
  },
  {
   "cell_type": "code",
   "execution_count": null,
   "metadata": {},
   "outputs": [],
   "source": [
    "preprocessed_df['eHDLC'] = preprocessed_df.apply(\n",
    "    lambda row: 1 if (row['sex'] == 1 and row['eHDLC'] > 1.03) or (row['sex'] == 2 and row['eHDLC'] > 1.29) else 2,\n",
    "    axis=1\n",
    ")\n",
    "# Desirable: 1, At risk: 2"
   ]
  },
  {
   "cell_type": "code",
   "execution_count": null,
   "metadata": {},
   "outputs": [],
   "source": [
    "bins = [-float('inf'), 1.69, 2.26, 5.65, float('inf')]\n",
    "# 'Desirable': 1, 'Mild Hypertriglyceridemia': 2, 'High Hypertriglyceridemia': 3, 'Very High Hypertriglyceridemia': 4\n",
    "labels = [1, 2, 3, 4]\n",
    "preprocessed_df['eSerumTG'] = pd.cut(preprocessed_df['eSerumTG'], bins=bins, labels=labels)\n",
    "preprocessed_df['eSerumTG'].unique()"
   ]
  },
  {
   "cell_type": "code",
   "execution_count": null,
   "metadata": {},
   "outputs": [],
   "source": [
    "preprocessed_df['eGp'] = preprocessed_df['eGp'].apply(lambda x: 1 if x <= 1.2 else 2)\n",
    "preprocessed_df['eGp'].unique()\n",
    "# Normal: 1, At risk: 2"
   ]
  },
  {
   "cell_type": "code",
   "execution_count": null,
   "metadata": {},
   "outputs": [],
   "source": [
    "preprocessed_df = apply_kmeans(preprocessed_df, 'eIle', n_clusters=3, random_state=0)"
   ]
  },
  {
   "cell_type": "code",
   "execution_count": null,
   "metadata": {},
   "outputs": [],
   "source": [
    "def categorize_met(met):\n",
    "    moderate = 4.9 * 60 * 3 # assuming 3 sessions of 1 hour each per week\n",
    "    vigorous = 6.8 * 60 * 3\n",
    "    if met >= moderate and met < vigorous:  \n",
    "        return 2 # Moderate\n",
    "    elif met >= 6.8 * 60 * 3: \n",
    "        return 3 # Vigorous\n",
    "    else:\n",
    "        return 1 # Low\n",
    "\n",
    "preprocessed_df['eipmeto2'] = preprocessed_df['eipmeto2'].apply(categorize_met)\n",
    "print(preprocessed_df['eipmeto2'].value_counts())"
   ]
  },
  {
   "cell_type": "code",
   "execution_count": null,
   "metadata": {},
   "outputs": [],
   "source": [
    "preprocessed_df['eIL6'] = pd.cut(preprocessed_df['eIL6'],\n",
    "                                bins=[-float('inf'), 7, float('inf')],\n",
    "                                labels=[1, 2], # Normal: 1, High: 2\n",
    "                                right=True) \n",
    "\n",
    "print(preprocessed_df['eIL6'].value_counts())"
   ]
  },
  {
   "cell_type": "code",
   "execution_count": null,
   "metadata": {},
   "outputs": [],
   "source": [
    "preprocessed_df['eHSCRP'] = pd.cut(preprocessed_df['eHSCRP'],\n",
    "                                  bins=[-float('inf'), 0.3, 1, 10, 50, float('inf')],\n",
    "                                  labels=[1, 2, 3, 4, 5], \n",
    "                                  right=False)\n",
    "print(preprocessed_df['eHSCRP'].value_counts())\n"
   ]
  },
  {
   "cell_type": "code",
   "execution_count": null,
   "metadata": {},
   "outputs": [],
   "source": [
    "def categorize_atri_med(row):\n",
    "    adult_threshold = 150 * 0.01129  # mg/dL to mmol/L for adults\n",
    "    child_threshold = 90 * 0.01129   # mg/dL to mmol/L for children and teens\n",
    "\n",
    "    if row['eage'] > 19:\n",
    "        if row['etri_med'] < adult_threshold:\n",
    "            return 1 # Healthy\n",
    "        else:\n",
    "            return 2 # High\n",
    "    else: \n",
    "        if row['etri_med'] < child_threshold:\n",
    "            return 1 # Healthy\n",
    "        else:\n",
    "            return 2 # High\n",
    "\n",
    "preprocessed_df['etri_med'] = preprocessed_df.apply(categorize_atri_med, axis=1)\n",
    "print(preprocessed_df['etri_med'].value_counts())"
   ]
  },
  {
   "cell_type": "code",
   "execution_count": null,
   "metadata": {},
   "outputs": [],
   "source": [
    "def categorize_ahdl_med(row):\n",
    "    if row['sex'] == 1: \n",
    "        return 1 if row['ehdl_med'] > 1.0 else 2\n",
    "    elif row['sex'] == 2: \n",
    "        return 1 if row['ehdl_med'] > 1.2 else 2\n",
    "\n",
    "preprocessed_df['ehdl_med'] = preprocessed_df.apply(categorize_ahdl_med, axis=1)\n",
    "preprocessed_df['ehdl_med'].value_counts()\n",
    "# Healthy: 1, Unhealthy: 2"
   ]
  },
  {
   "cell_type": "code",
   "execution_count": null,
   "metadata": {},
   "outputs": [],
   "source": [
    "def categorize_blood_pressure(df):\n",
    "    for index, row in df.iterrows():\n",
    "        sbp = row['esbp_med']\n",
    "        dbp = row['edbp_med']\n",
    "        \n",
    "        if sbp < 122 and dbp < 80:\n",
    "            df.at[index, 'esbp_med'] = 1\n",
    "            df.at[index, 'edbp_med'] = 1\n",
    "        elif 120 <= sbp <= 129 and dbp < 80:\n",
    "            df.at[index, 'esbp_med'] = 2\n",
    "            df.at[index, 'edbp_med'] = 2\n",
    "        elif (130 <= sbp <= 139 or 80 <= dbp <= 89):\n",
    "            df.at[index, 'esbp_med'] = 3\n",
    "            df.at[index, 'edbp_med'] = 3\n",
    "        elif sbp >= 140 or dbp >= 90:\n",
    "            df.at[index, 'esbp_med'] = 4\n",
    "            df.at[index, 'edbp_med'] = 4\n",
    "        else:\n",
    "            df.at[index, 'esbp_med'] = -1\n",
    "            df.at[index, 'edbp_med'] = -1\n",
    "\n",
    "categorize_blood_pressure(preprocessed_df)\n",
    "# Normal: 1, Elevated: 2, Hypertension I: 3, Hypertension II: 4, Uncategorized: -1"
   ]
  },
  {
   "cell_type": "code",
   "execution_count": null,
   "metadata": {},
   "outputs": [],
   "source": [
    "def categorize_glucose_level(glucose_mmol):\n",
    "    glucose_mg_dl = glucose_mmol * 18  # convert mmol/L to mg/dL\n",
    "    if glucose_mg_dl < 70:\n",
    "        return 1 # Hypoglycemia\n",
    "    elif 70 <= glucose_mg_dl <= 100:\n",
    "        return 2 # Normal\n",
    "    elif 100 < glucose_mg_dl <= 125:\n",
    "        return 3 # Prediabetes\n",
    "    elif glucose_mg_dl >= 126:\n",
    "        return 4 # Diabetes\n",
    "    else:\n",
    "        return -1\n",
    "\n",
    "preprocessed_df['egluc_med'] = preprocessed_df['egluc_med'].apply(categorize_glucose_level)\n",
    "\n",
    "preprocessed_df['egluc_med'].value_counts()"
   ]
  },
  {
   "cell_type": "code",
   "execution_count": null,
   "metadata": {},
   "outputs": [],
   "source": [
    "preprocessed_df = apply_kmeans(preprocessed_df, 'eauditsc', n_clusters=3, random_state=0)"
   ]
  },
  {
   "cell_type": "code",
   "execution_count": null,
   "metadata": {},
   "outputs": [],
   "source": [
    "preprocessed_df = apply_kmeans(preprocessed_df, 'ebaiscal', n_clusters=3, random_state=0)"
   ]
  },
  {
   "cell_type": "code",
   "execution_count": null,
   "metadata": {},
   "outputs": [],
   "source": [
    "preprocessed_df = apply_kmeans(preprocessed_df, 'eids', n_clusters=3, random_state=0)"
   ]
  },
  {
   "cell_type": "code",
   "execution_count": null,
   "metadata": {},
   "outputs": [],
   "source": [
    "def discretize_age(data, column, bins, labels):\n",
    "    bin_indices = np.digitize(data[column], bins) - 1\n",
    "    bin_indices = np.clip(bin_indices, 0, len(labels) - 1)\n",
    "    return [labels[i] for i in bin_indices]"
   ]
  },
  {
   "cell_type": "code",
   "execution_count": null,
   "metadata": {},
   "outputs": [],
   "source": [
    "bins = [18, 27, 50, float('inf')]\n",
    "labels = [1, 2, 3] # Young Adult: 1, Adult: 2, Elderly: 3\n",
    "preprocessed_df['eage'] = discretize_age(preprocessed_df, 'eage', bins, labels)"
   ]
  },
  {
   "cell_type": "code",
   "execution_count": null,
   "metadata": {},
   "outputs": [],
   "source": [
    "# save data to build the network\n",
    "preprocessed_df.to_csv('../data/network/discrete_data_wave5.csv', index=False)"
   ]
  },
  {
   "cell_type": "code",
   "execution_count": null,
   "metadata": {},
   "outputs": [],
   "source": [
    "final_data = pd.read_csv('../data/network/discrete_data_wave5.csv')\n",
    "classify_data(final_data[columns_to_process])"
   ]
  }
 ],
 "metadata": {
  "kernelspec": {
   "display_name": "Python 3",
   "language": "python",
   "name": "python3"
  },
  "language_info": {
   "codemirror_mode": {
    "name": "ipython",
    "version": 3
   },
   "file_extension": ".py",
   "mimetype": "text/x-python",
   "name": "python",
   "nbconvert_exporter": "python",
   "pygments_lexer": "ipython3",
   "version": "3.11.4"
  }
 },
 "nbformat": 4,
 "nbformat_minor": 2
}
