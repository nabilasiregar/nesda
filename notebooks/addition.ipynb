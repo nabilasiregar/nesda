{
 "cells": [
  {
   "cell_type": "code",
   "execution_count": 23,
   "metadata": {},
   "outputs": [],
   "source": [
    "import pandas as pd"
   ]
  },
  {
   "cell_type": "code",
   "execution_count": 24,
   "metadata": {},
   "outputs": [
    {
     "name": "stdout",
     "output_type": "stream",
     "text": [
      "These `pident` values are in `data_wave5.csv` but not in `smoking_status_FU.csv`: {100099, 110599, 120199, 110099, 210198, 310299, 110499, 120099, 210599, 220199, 210098, 210099, 330299, 110399, 210498, 310598, 110799, 310099, 330198, 330199, 110298, 110299, 210398, 210399, 100198, 100199, 120298, 330098, 330099, 110198, 110199}\n",
      "These `pident` values are in `smoking_status_FU.csv` but not in `data_wave5.csv`: {2201, 3100, 3102, 3105, 1200, 1201, 1202, 2100, 2101, 2103, 2104, 2105, 1100, 1101, 1102, 1103, 1104, 1105, 1107, 3300, 3301, 3302, 1000, 1001}\n"
     ]
    }
   ],
   "source": [
    "smoking_status_fu = pd.read_csv(\"../data/smoking_status_FU.csv\", sep=';')\n",
    "wave5_dataset = pd.read_csv(\"../data/data_wave5.csv\", sep=',')\n",
    "smoking_status_fu.rename(columns=lambda x: x.strip(), inplace=True)\n",
    "smoking_status_fu.rename(columns={'smoking status': 'esmokstat'}, inplace=True)\n",
    "\n",
    "smoking_pident_set = set(smoking_status_fu['pident'])\n",
    "data_pident_set = set(wave5_dataset['pident'])\n",
    "\n",
    "missing_in_smoking = data_pident_set - smoking_pident_set\n",
    "missing_in_data_wave5 = smoking_pident_set - data_pident_set\n",
    "\n",
    "if missing_in_smoking:\n",
    "    print(f\"These `pident` values are in `data_wave5.csv` but not in `smoking_status_FU.csv`: {missing_in_smoking}\")\n",
    "if missing_in_data_wave5:\n",
    "    print(f\"These `pident` values are in `smoking_status_FU.csv` but not in `data_wave5.csv`: {missing_in_data_wave5}\")"
   ]
  },
  {
   "cell_type": "code",
   "execution_count": 25,
   "metadata": {},
   "outputs": [],
   "source": [
    "smoking_status_filtered = smoking_status_fu[smoking_status_fu['pident'].isin(wave5_dataset['pident'])]\n",
    "\n",
    "# Filter smoking_status_fu to include only pident that also present in data_wave5\n",
    "updated_dataset = pd.merge(wave5_dataset, smoking_status_filtered, on='pident', how='left')\n",
    "updated_dataset['esmoktat'] = updated_dataset['esmokstat'].astype('Int64')\n",
    "\n",
    "updated_dataset.to_csv(\"../data/updated_data_wave5.csv\", index=False)"
   ]
  }
 ],
 "metadata": {
  "kernelspec": {
   "display_name": "Python 3",
   "language": "python",
   "name": "python3"
  },
  "language_info": {
   "codemirror_mode": {
    "name": "ipython",
    "version": 3
   },
   "file_extension": ".py",
   "mimetype": "text/x-python",
   "name": "python",
   "nbconvert_exporter": "python",
   "pygments_lexer": "ipython3",
   "version": "3.11.4"
  }
 },
 "nbformat": 4,
 "nbformat_minor": 2
}
