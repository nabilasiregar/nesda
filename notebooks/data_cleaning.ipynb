{
 "cells": [
  {
   "cell_type": "code",
   "execution_count": 1,
   "metadata": {},
   "outputs": [],
   "source": [
    "import pandas as pd\n",
    "import numpy as np\n",
    "from sklearn.experimental import enable_iterative_imputer\n",
    "from sklearn.impute import IterativeImputer"
   ]
  },
  {
   "cell_type": "code",
   "execution_count": null,
   "metadata": {},
   "outputs": [],
   "source": [
    "df = pd.read_csv('../data/data_wave5.csv')\n",
    "\n",
    "correlated_vars = ['ems_trig2', 'ems_hdl2', 'ems_hpt', 'ems_gluc2', 'etri_med', 'ehdl_med', 'esbp_med', 'edbp_med', 'egluc_med']\n",
    "imputation_vars = ['emet_syn2'] + correlated_vars\n",
    "\n",
    "\n",
    "data_for_imputation = df[imputation_vars]\n",
    "\n",
    "\n",
    "iter_imputer = IterativeImputer(max_iter=100, random_state=42)\n",
    "imputed_data = iter_imputer.fit_transform(data_for_imputation)\n",
    "\n",
    "# convert the imputed values to binary\n",
    "df['emet_syn2'] = np.round(imputed_data[:, 0]).astype(int)\n",
    "\n",
    "df.to_csv('../data/preprocessed/imputed_data_wave5.csv', index=False)"
   ]
  }
 ],
 "metadata": {
  "kernelspec": {
   "display_name": "Python 3",
   "language": "python",
   "name": "python3"
  },
  "language_info": {
   "codemirror_mode": {
    "name": "ipython",
    "version": 3
   },
   "file_extension": ".py",
   "mimetype": "text/x-python",
   "name": "python",
   "nbconvert_exporter": "python",
   "pygments_lexer": "ipython3",
   "version": "3.11.4"
  }
 },
 "nbformat": 4,
 "nbformat_minor": 2
}
